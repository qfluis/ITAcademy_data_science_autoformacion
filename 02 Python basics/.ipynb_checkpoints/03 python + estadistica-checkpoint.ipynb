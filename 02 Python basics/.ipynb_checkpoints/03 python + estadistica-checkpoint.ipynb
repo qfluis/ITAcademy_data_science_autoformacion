{
 "cells": [
  {
   "cell_type": "markdown",
   "id": "c08bfe79",
   "metadata": {},
   "source": [
    "# Ejemplos estadística descriptiva"
   ]
  },
  {
   "cell_type": "code",
   "execution_count": 1,
   "id": "fa78dc2c",
   "metadata": {},
   "outputs": [],
   "source": [
    "# Ejemplos de estadistica descriptiva con python\n",
    "\n",
    "import numpy as np # importando numpy\n",
    "from scipy import stats # importando scipy.stats\n",
    "import pandas as pd # importando pandas\n",
    "\n",
    "np.random.seed(2131982) # para poder replicar el random"
   ]
  },
  {
   "cell_type": "code",
   "execution_count": 2,
   "id": "22c51978",
   "metadata": {},
   "outputs": [
    {
     "data": {
      "text/plain": [
       "array([[ 0.46038022, -1.08942528, -0.62681496, -0.63329028],\n",
       "       [-0.1074033 , -0.88138082, -0.34466623, -0.28320214],\n",
       "       [ 0.94051171,  0.86693793,  1.20947882, -0.16894118],\n",
       "       [-0.12790177, -0.58099931, -0.46188426, -0.18148302],\n",
       "       [-0.76959435, -1.37414587,  1.37696874, -0.18040537]])"
      ]
     },
     "execution_count": 2,
     "metadata": {},
     "output_type": "execute_result"
    }
   ],
   "source": [
    "datos = np.random.randn(5, 4) # datos normalmente distribuidos\n",
    "datos"
   ]
  },
  {
   "cell_type": "code",
   "execution_count": 3,
   "id": "00169cec",
   "metadata": {},
   "outputs": [
    {
     "data": {
      "text/plain": [
       "-0.14786303590303568"
      ]
     },
     "execution_count": 3,
     "metadata": {},
     "output_type": "execute_result"
    }
   ],
   "source": [
    "# media arítmetica\n",
    "datos.mean() # Calcula la media aritmetica de"
   ]
  },
  {
   "cell_type": "code",
   "execution_count": 4,
   "id": "eb885e41",
   "metadata": {},
   "outputs": [
    {
     "data": {
      "text/plain": [
       "-0.14786303590303568"
      ]
     },
     "execution_count": 4,
     "metadata": {},
     "output_type": "execute_result"
    }
   ],
   "source": [
    "np.mean(datos) # Mismo resultado desde la funcion de numpy"
   ]
  },
  {
   "cell_type": "code",
   "execution_count": 5,
   "id": "38909608",
   "metadata": {},
   "outputs": [
    {
     "data": {
      "text/plain": [
       "array([-0.47228757, -0.40416312,  0.71199682, -0.33806709, -0.23679421])"
      ]
     },
     "execution_count": 5,
     "metadata": {},
     "output_type": "execute_result"
    }
   ],
   "source": [
    "datos.mean(axis=1) # media aritmetica de cada fila"
   ]
  },
  {
   "cell_type": "code",
   "execution_count": 6,
   "id": "6ab147e7",
   "metadata": {},
   "outputs": [
    {
     "data": {
      "text/plain": [
       "array([ 0.0791985 , -0.61180267,  0.23061642, -0.2894644 ])"
      ]
     },
     "execution_count": 6,
     "metadata": {},
     "output_type": "execute_result"
    }
   ],
   "source": [
    "datos.mean(axis=0) # media aritmetica de cada columna"
   ]
  },
  {
   "cell_type": "code",
   "execution_count": 7,
   "id": "38f2aa3b",
   "metadata": {},
   "outputs": [
    {
     "data": {
      "text/plain": [
       "-0.23234258265023794"
      ]
     },
     "execution_count": 7,
     "metadata": {},
     "output_type": "execute_result"
    }
   ],
   "source": [
    "# mediana\n",
    "np.median(datos) "
   ]
  },
  {
   "cell_type": "code",
   "execution_count": 8,
   "id": "e87f2418",
   "metadata": {},
   "outputs": [
    {
     "data": {
      "text/plain": [
       "array([-0.1074033 , -0.88138082, -0.34466623, -0.18148302])"
      ]
     },
     "execution_count": 8,
     "metadata": {},
     "output_type": "execute_result"
    }
   ],
   "source": [
    "np.median(datos, 0) # media aritmetica de cada columna"
   ]
  },
  {
   "cell_type": "code",
   "execution_count": 9,
   "id": "51d000a3",
   "metadata": {},
   "outputs": [
    {
     "data": {
      "text/plain": [
       "0.7375535458407161"
      ]
     },
     "execution_count": 9,
     "metadata": {},
     "output_type": "execute_result"
    }
   ],
   "source": [
    "# Desviación típica\n",
    "np.std(datos)"
   ]
  },
  {
   "cell_type": "code",
   "execution_count": 10,
   "id": "8c0a5eaf",
   "metadata": {},
   "outputs": [
    {
     "data": {
      "text/plain": [
       "array([0.58057213, 0.78352862, 0.87384108, 0.17682485])"
      ]
     },
     "execution_count": 10,
     "metadata": {},
     "output_type": "execute_result"
    }
   ],
   "source": [
    "np.std(datos, 0) # Desviación típica de cada columna"
   ]
  },
  {
   "cell_type": "code",
   "execution_count": 11,
   "id": "f184b5af",
   "metadata": {},
   "outputs": [
    {
     "data": {
      "text/plain": [
       "0.5439852329822132"
      ]
     },
     "execution_count": 11,
     "metadata": {},
     "output_type": "execute_result"
    }
   ],
   "source": [
    "# varianza\n",
    "np.var(datos) "
   ]
  },
  {
   "cell_type": "code",
   "execution_count": 12,
   "id": "843af4e3",
   "metadata": {},
   "outputs": [
    {
     "data": {
      "text/plain": [
       "array([0.337064  , 0.6139171 , 0.76359823, 0.03126703])"
      ]
     },
     "execution_count": 12,
     "metadata": {},
     "output_type": "execute_result"
    }
   ],
   "source": [
    "np.var(datos, 0) # varianza de cada columna"
   ]
  },
  {
   "cell_type": "code",
   "execution_count": 29,
   "id": "2f729a84",
   "metadata": {},
   "outputs": [
    {
     "data": {
      "text/plain": [
       "ModeResult(mode=array([[-0.76959435, -1.37414587, -0.62681496, -0.63329028]]), count=array([[1, 1, 1, 1]]))"
      ]
     },
     "execution_count": 29,
     "metadata": {},
     "output_type": "execute_result"
    }
   ],
   "source": [
    "# moda\n",
    "stats.mode(datos, keepdims=True) # Calcula la moda de cada columna\n",
    "# el 2do array devuelve la frecuencia."
   ]
  },
  {
   "cell_type": "code",
   "execution_count": 27,
   "id": "c7befe5f",
   "metadata": {},
   "outputs": [
    {
     "data": {
      "text/plain": [
       "ModeResult(mode=array([6]), count=array([5]))"
      ]
     },
     "execution_count": 27,
     "metadata": {},
     "output_type": "execute_result"
    }
   ],
   "source": [
    "datos2 = np.array([1, 2, 3, 6, 6, 1, 2, 4, 2, 2, 6, 6, 8, 10, 6])\n",
    "stats.mode(datos2, keepdims=True) # aqui la moda es el 6 porque aparece 5 veces en el vector."
   ]
  },
  {
   "cell_type": "code",
   "execution_count": 15,
   "id": "f286a307",
   "metadata": {},
   "outputs": [
    {
     "data": {
      "text/plain": [
       "array([[ 1.        ,  0.82333743,  0.15257202,  0.78798675, -0.02292073],\n",
       "       [ 0.82333743,  1.        , -0.13709662,  0.86873632,  0.41234875],\n",
       "       [ 0.15257202, -0.13709662,  1.        , -0.47691376,  0.21216856],\n",
       "       [ 0.78798675,  0.86873632, -0.47691376,  1.        , -0.03445705],\n",
       "       [-0.02292073,  0.41234875,  0.21216856, -0.03445705,  1.        ]])"
      ]
     },
     "execution_count": 15,
     "metadata": {},
     "output_type": "execute_result"
    }
   ],
   "source": [
    "# correlacion\n",
    "np.corrcoef(datos) # Crea matriz de correlación."
   ]
  },
  {
   "cell_type": "code",
   "execution_count": 16,
   "id": "89c9ba1f",
   "metadata": {},
   "outputs": [
    {
     "data": {
      "text/plain": [
       "array([[1.        , 0.82333743],\n",
       "       [0.82333743, 1.        ]])"
      ]
     },
     "execution_count": 16,
     "metadata": {},
     "output_type": "execute_result"
    }
   ],
   "source": [
    "# calculando la correlación entre dos vectores.\n",
    "np.corrcoef(datos[0], datos[1])"
   ]
  },
  {
   "cell_type": "code",
   "execution_count": 17,
   "id": "e3df2c55",
   "metadata": {},
   "outputs": [
    {
     "data": {
      "text/plain": [
       "array([[ 0.43350958,  0.18087281,  0.06082243,  0.11328658, -0.01782409],\n",
       "       [ 0.18087281,  0.11132485, -0.0276957 ,  0.06329134,  0.16249513],\n",
       "       [ 0.06082243, -0.0276957 ,  0.36658864, -0.06305065,  0.15172255],\n",
       "       [ 0.11328658,  0.06329134, -0.06305065,  0.04767826, -0.00888624],\n",
       "       [-0.01782409,  0.16249513,  0.15172255, -0.00888624,  1.39495179]])"
      ]
     },
     "execution_count": 17,
     "metadata": {},
     "output_type": "execute_result"
    }
   ],
   "source": [
    "# covarianza\n",
    "np.cov(datos) # calcula matriz de covarianza"
   ]
  },
  {
   "cell_type": "code",
   "execution_count": 18,
   "id": "f8c8a9c1",
   "metadata": {},
   "outputs": [
    {
     "data": {
      "text/plain": [
       "array([[0.43350958, 0.18087281],\n",
       "       [0.18087281, 0.11132485]])"
      ]
     },
     "execution_count": 18,
     "metadata": {},
     "output_type": "execute_result"
    }
   ],
   "source": [
    "# covarianza de dos vectores\n",
    "np.cov(datos[0], datos[1])"
   ]
  },
  {
   "cell_type": "code",
   "execution_count": 19,
   "id": "6ede8f3f",
   "metadata": {},
   "outputs": [
    {
     "data": {
      "text/html": [
       "<div>\n",
       "<style scoped>\n",
       "    .dataframe tbody tr th:only-of-type {\n",
       "        vertical-align: middle;\n",
       "    }\n",
       "\n",
       "    .dataframe tbody tr th {\n",
       "        vertical-align: top;\n",
       "    }\n",
       "\n",
       "    .dataframe thead th {\n",
       "        text-align: right;\n",
       "    }\n",
       "</style>\n",
       "<table border=\"1\" class=\"dataframe\">\n",
       "  <thead>\n",
       "    <tr style=\"text-align: right;\">\n",
       "      <th></th>\n",
       "      <th>col1</th>\n",
       "      <th>col2</th>\n",
       "      <th>col3</th>\n",
       "      <th>col4</th>\n",
       "    </tr>\n",
       "  </thead>\n",
       "  <tbody>\n",
       "    <tr>\n",
       "      <th>a</th>\n",
       "      <td>0.460380</td>\n",
       "      <td>-1.089425</td>\n",
       "      <td>-0.626815</td>\n",
       "      <td>-0.633290</td>\n",
       "    </tr>\n",
       "    <tr>\n",
       "      <th>b</th>\n",
       "      <td>-0.107403</td>\n",
       "      <td>-0.881381</td>\n",
       "      <td>-0.344666</td>\n",
       "      <td>-0.283202</td>\n",
       "    </tr>\n",
       "    <tr>\n",
       "      <th>c</th>\n",
       "      <td>0.940512</td>\n",
       "      <td>0.866938</td>\n",
       "      <td>1.209479</td>\n",
       "      <td>-0.168941</td>\n",
       "    </tr>\n",
       "    <tr>\n",
       "      <th>d</th>\n",
       "      <td>-0.127902</td>\n",
       "      <td>-0.580999</td>\n",
       "      <td>-0.461884</td>\n",
       "      <td>-0.181483</td>\n",
       "    </tr>\n",
       "    <tr>\n",
       "      <th>e</th>\n",
       "      <td>-0.769594</td>\n",
       "      <td>-1.374146</td>\n",
       "      <td>1.376969</td>\n",
       "      <td>-0.180405</td>\n",
       "    </tr>\n",
       "  </tbody>\n",
       "</table>\n",
       "</div>"
      ],
      "text/plain": [
       "       col1      col2      col3      col4\n",
       "a  0.460380 -1.089425 -0.626815 -0.633290\n",
       "b -0.107403 -0.881381 -0.344666 -0.283202\n",
       "c  0.940512  0.866938  1.209479 -0.168941\n",
       "d -0.127902 -0.580999 -0.461884 -0.181483\n",
       "e -0.769594 -1.374146  1.376969 -0.180405"
      ]
     },
     "execution_count": 19,
     "metadata": {},
     "output_type": "execute_result"
    }
   ],
   "source": [
    "# usando pandas\n",
    "dataframe = pd.DataFrame(datos, index=['a', 'b', 'c', 'd', 'e'], \n",
    "                        columns=['col1', 'col2', 'col3', 'col4'])\n",
    "dataframe"
   ]
  },
  {
   "cell_type": "code",
   "execution_count": 20,
   "id": "08f7943a",
   "metadata": {},
   "outputs": [
    {
     "data": {
      "text/html": [
       "<div>\n",
       "<style scoped>\n",
       "    .dataframe tbody tr th:only-of-type {\n",
       "        vertical-align: middle;\n",
       "    }\n",
       "\n",
       "    .dataframe tbody tr th {\n",
       "        vertical-align: top;\n",
       "    }\n",
       "\n",
       "    .dataframe thead th {\n",
       "        text-align: right;\n",
       "    }\n",
       "</style>\n",
       "<table border=\"1\" class=\"dataframe\">\n",
       "  <thead>\n",
       "    <tr style=\"text-align: right;\">\n",
       "      <th></th>\n",
       "      <th>col1</th>\n",
       "      <th>col2</th>\n",
       "      <th>col3</th>\n",
       "      <th>col4</th>\n",
       "    </tr>\n",
       "  </thead>\n",
       "  <tbody>\n",
       "    <tr>\n",
       "      <th>count</th>\n",
       "      <td>5.000000</td>\n",
       "      <td>5.000000</td>\n",
       "      <td>5.000000</td>\n",
       "      <td>5.000000</td>\n",
       "    </tr>\n",
       "    <tr>\n",
       "      <th>mean</th>\n",
       "      <td>0.079199</td>\n",
       "      <td>-0.611803</td>\n",
       "      <td>0.230616</td>\n",
       "      <td>-0.289464</td>\n",
       "    </tr>\n",
       "    <tr>\n",
       "      <th>std</th>\n",
       "      <td>0.649099</td>\n",
       "      <td>0.876012</td>\n",
       "      <td>0.976984</td>\n",
       "      <td>0.197696</td>\n",
       "    </tr>\n",
       "    <tr>\n",
       "      <th>min</th>\n",
       "      <td>-0.769594</td>\n",
       "      <td>-1.374146</td>\n",
       "      <td>-0.626815</td>\n",
       "      <td>-0.633290</td>\n",
       "    </tr>\n",
       "    <tr>\n",
       "      <th>25%</th>\n",
       "      <td>-0.127902</td>\n",
       "      <td>-1.089425</td>\n",
       "      <td>-0.461884</td>\n",
       "      <td>-0.283202</td>\n",
       "    </tr>\n",
       "    <tr>\n",
       "      <th>50%</th>\n",
       "      <td>-0.107403</td>\n",
       "      <td>-0.881381</td>\n",
       "      <td>-0.344666</td>\n",
       "      <td>-0.181483</td>\n",
       "    </tr>\n",
       "    <tr>\n",
       "      <th>75%</th>\n",
       "      <td>0.460380</td>\n",
       "      <td>-0.580999</td>\n",
       "      <td>1.209479</td>\n",
       "      <td>-0.180405</td>\n",
       "    </tr>\n",
       "    <tr>\n",
       "      <th>max</th>\n",
       "      <td>0.940512</td>\n",
       "      <td>0.866938</td>\n",
       "      <td>1.376969</td>\n",
       "      <td>-0.168941</td>\n",
       "    </tr>\n",
       "  </tbody>\n",
       "</table>\n",
       "</div>"
      ],
      "text/plain": [
       "           col1      col2      col3      col4\n",
       "count  5.000000  5.000000  5.000000  5.000000\n",
       "mean   0.079199 -0.611803  0.230616 -0.289464\n",
       "std    0.649099  0.876012  0.976984  0.197696\n",
       "min   -0.769594 -1.374146 -0.626815 -0.633290\n",
       "25%   -0.127902 -1.089425 -0.461884 -0.283202\n",
       "50%   -0.107403 -0.881381 -0.344666 -0.181483\n",
       "75%    0.460380 -0.580999  1.209479 -0.180405\n",
       "max    0.940512  0.866938  1.376969 -0.168941"
      ]
     },
     "execution_count": 20,
     "metadata": {},
     "output_type": "execute_result"
    }
   ],
   "source": [
    "# resumen estadistadistico con pandas\n",
    "dataframe.describe()"
   ]
  },
  {
   "cell_type": "code",
   "execution_count": 21,
   "id": "5bad68b9",
   "metadata": {},
   "outputs": [
    {
     "data": {
      "text/plain": [
       "col1    0.395993\n",
       "col2   -3.059013\n",
       "col3    1.153082\n",
       "col4   -1.447322\n",
       "dtype: float64"
      ]
     },
     "execution_count": 21,
     "metadata": {},
     "output_type": "execute_result"
    }
   ],
   "source": [
    "# sumando las columnas\n",
    "dataframe.sum()"
   ]
  },
  {
   "cell_type": "code",
   "execution_count": 22,
   "id": "62647eda",
   "metadata": {},
   "outputs": [
    {
     "data": {
      "text/plain": [
       "a   -1.889150\n",
       "b   -1.616652\n",
       "c    2.847987\n",
       "d   -1.352268\n",
       "e   -0.947177\n",
       "dtype: float64"
      ]
     },
     "execution_count": 22,
     "metadata": {},
     "output_type": "execute_result"
    }
   ],
   "source": [
    "# sumando filas\n",
    "dataframe.sum(axis=1)"
   ]
  },
  {
   "cell_type": "code",
   "execution_count": 23,
   "id": "a2cc27a7",
   "metadata": {},
   "outputs": [
    {
     "data": {
      "text/html": [
       "<div>\n",
       "<style scoped>\n",
       "    .dataframe tbody tr th:only-of-type {\n",
       "        vertical-align: middle;\n",
       "    }\n",
       "\n",
       "    .dataframe tbody tr th {\n",
       "        vertical-align: top;\n",
       "    }\n",
       "\n",
       "    .dataframe thead th {\n",
       "        text-align: right;\n",
       "    }\n",
       "</style>\n",
       "<table border=\"1\" class=\"dataframe\">\n",
       "  <thead>\n",
       "    <tr style=\"text-align: right;\">\n",
       "      <th></th>\n",
       "      <th>col1</th>\n",
       "      <th>col2</th>\n",
       "      <th>col3</th>\n",
       "      <th>col4</th>\n",
       "    </tr>\n",
       "  </thead>\n",
       "  <tbody>\n",
       "    <tr>\n",
       "      <th>a</th>\n",
       "      <td>0.460380</td>\n",
       "      <td>-1.089425</td>\n",
       "      <td>-0.626815</td>\n",
       "      <td>-0.633290</td>\n",
       "    </tr>\n",
       "    <tr>\n",
       "      <th>b</th>\n",
       "      <td>0.352977</td>\n",
       "      <td>-1.970806</td>\n",
       "      <td>-0.971481</td>\n",
       "      <td>-0.916492</td>\n",
       "    </tr>\n",
       "    <tr>\n",
       "      <th>c</th>\n",
       "      <td>1.293489</td>\n",
       "      <td>-1.103868</td>\n",
       "      <td>0.237998</td>\n",
       "      <td>-1.085434</td>\n",
       "    </tr>\n",
       "    <tr>\n",
       "      <th>d</th>\n",
       "      <td>1.165587</td>\n",
       "      <td>-1.684867</td>\n",
       "      <td>-0.223887</td>\n",
       "      <td>-1.266917</td>\n",
       "    </tr>\n",
       "    <tr>\n",
       "      <th>e</th>\n",
       "      <td>0.395993</td>\n",
       "      <td>-3.059013</td>\n",
       "      <td>1.153082</td>\n",
       "      <td>-1.447322</td>\n",
       "    </tr>\n",
       "  </tbody>\n",
       "</table>\n",
       "</div>"
      ],
      "text/plain": [
       "       col1      col2      col3      col4\n",
       "a  0.460380 -1.089425 -0.626815 -0.633290\n",
       "b  0.352977 -1.970806 -0.971481 -0.916492\n",
       "c  1.293489 -1.103868  0.237998 -1.085434\n",
       "d  1.165587 -1.684867 -0.223887 -1.266917\n",
       "e  0.395993 -3.059013  1.153082 -1.447322"
      ]
     },
     "execution_count": 23,
     "metadata": {},
     "output_type": "execute_result"
    }
   ],
   "source": [
    "dataframe.cumsum() # acumulados"
   ]
  },
  {
   "cell_type": "code",
   "execution_count": 24,
   "id": "59464e9b",
   "metadata": {},
   "outputs": [
    {
     "data": {
      "text/plain": [
       "col1    0.079199\n",
       "col2   -0.611803\n",
       "col3    0.230616\n",
       "col4   -0.289464\n",
       "dtype: float64"
      ]
     },
     "execution_count": 24,
     "metadata": {},
     "output_type": "execute_result"
    }
   ],
   "source": [
    "# media aritmetica de cada columna con pandas\n",
    "dataframe.mean()"
   ]
  },
  {
   "cell_type": "code",
   "execution_count": 25,
   "id": "37b6b4d9",
   "metadata": {},
   "outputs": [
    {
     "data": {
      "text/plain": [
       "a   -0.472288\n",
       "b   -0.404163\n",
       "c    0.711997\n",
       "d   -0.338067\n",
       "e   -0.236794\n",
       "dtype: float64"
      ]
     },
     "execution_count": 25,
     "metadata": {},
     "output_type": "execute_result"
    }
   ],
   "source": [
    "# media aritmetica de cada fila con pandas\n",
    "dataframe.mean(axis=1)"
   ]
  },
  {
   "cell_type": "markdown",
   "id": "f709f9bd",
   "metadata": {},
   "source": [
    "# Histogramas y distribuciones"
   ]
  },
  {
   "cell_type": "markdown",
   "id": "ad7b8b78",
   "metadata": {},
   "source": [
    "## Distribución normal"
   ]
  },
  {
   "cell_type": "code",
   "execution_count": 32,
   "id": "92ee9c76",
   "metadata": {},
   "outputs": [],
   "source": [
    "# Graficos embebidos.\n",
    "%matplotlib inline "
   ]
  },
  {
   "cell_type": "code",
   "execution_count": 34,
   "id": "67c7d067",
   "metadata": {},
   "outputs": [],
   "source": [
    "import matplotlib.pyplot as plt # importando matplotlib\n",
    "import seaborn as sns # importando seaborn\n",
    "\n",
    "# parametros esteticos de seaborn\n",
    "sns.set_palette(\"deep\", desat=.6)\n",
    "sns.set_context(rc={\"figure.figsize\": (8, 4)})"
   ]
  },
  {
   "cell_type": "code",
   "execution_count": 35,
   "id": "cd6c5564",
   "metadata": {},
   "outputs": [],
   "source": [
    "mu, sigma = 0, 0.1 # media y desvio estandar\n",
    "s = np.random.normal(mu, sigma, 1000) #creando muestra de datos"
   ]
  },
  {
   "cell_type": "code",
   "execution_count": 38,
   "id": "a22bf1b2",
   "metadata": {},
   "outputs": [
    {
     "data": {
      "image/png": "[encoded data removed]",
      "text/plain": [
       "<Figure size 640x480 with 1 Axes>"
      ]
     },
     "metadata": {},
     "output_type": "display_data"
    }
   ],
   "source": [
    "# histograma de distribución normal.\n",
    "cuenta, cajas, ignorar = plt.hist(s, 30, density=True)\n",
    "normal = plt.plot(cajas, 1/(sigma * np.sqrt(2 * np.pi)) *\n",
    "         np.exp( - (cajas - mu)**2 / (2 * sigma**2) ),\n",
    "         linewidth=2, color='r')"
   ]
  },
  {
   "cell_type": "markdown",
   "id": "e987f17c",
   "metadata": {},
   "source": [
    "## Distribución Gamma"
   ]
  },
  {
   "cell_type": "code",
   "execution_count": 39,
   "id": "5337f19d",
   "metadata": {},
   "outputs": [
    {
     "data": {
      "image/png": "[encoded data removed]",
      "text/plain": [
       "<Figure size 640x480 with 1 Axes>"
      ]
     },
     "metadata": {},
     "output_type": "display_data"
    }
   ],
   "source": [
    "# Dibujando la distribucion Gamma\n",
    "x = stats.gamma(3).rvs(5000)\n",
    "gamma = plt.hist(x, 70, histtype=\"stepfilled\", alpha=.7)"
   ]
  },
  {
   "cell_type": "markdown",
   "id": "1788b65c",
   "metadata": {},
   "source": [
    "## Cuartiles y diagramas de cajas"
   ]
  },
  {
   "cell_type": "code",
   "execution_count": 48,
   "id": "2a4f07f5",
   "metadata": {},
   "outputs": [
    {
     "data": {
      "image/png": "[encoded data removed]",
      "text/plain": [
       "<Figure size 900x600 with 1 Axes>"
      ]
     },
     "metadata": {},
     "output_type": "display_data"
    }
   ],
   "source": [
    "# Ejemplo de grafico de cajas en python\n",
    "\n",
    "datos_1 = np.random.normal(100, 10, 200)\n",
    "datos_2 = np.random.normal(80, 30, 200)\n",
    "datos_3 = np.random.normal(90, 20, 200)\n",
    "datos_4 = np.random.normal(70, 25, 200)\n",
    "\n",
    "datos_graf = [datos_1, datos_2, datos_3, datos_4]\n",
    "\n",
    "# Creando el objeto figura\n",
    "fig = plt.figure(1, figsize=(9, 6))\n",
    "\n",
    "# Creando el subgrafico\n",
    "ax = fig.add_subplot(111)\n",
    "\n",
    "# creando el grafico de cajas\n",
    "bp = ax.boxplot(datos_graf)\n",
    "\n",
    "# visualizar mas facile los atípicos\n",
    "for flier in bp['fliers']:\n",
    "    flier.set(marker='o', color='red', alpha=0.5)\n",
    "# los puntos aislados son valores atípicos"
   ]
  },
  {
   "cell_type": "code",
   "execution_count": 51,
   "id": "e487cf22",
   "metadata": {},
   "outputs": [
    {
     "data": {
      "image/png": "[encoded data removed]",
      "text/plain": [
       "<Figure size 640x480 with 1 Axes>"
      ]
     },
     "metadata": {},
     "output_type": "display_data"
    }
   ],
   "source": [
    "# usando seaborn\n",
    "sns.boxplot(datos_graf, color=\"PaleGreen\");"
   ]
  },
  {
   "cell_type": "markdown",
   "id": "839dd4e9",
   "metadata": {},
   "source": [
    "## Regresiones"
   ]
  },
  {
   "cell_type": "code",
   "execution_count": 52,
   "id": "74e7a6f2",
   "metadata": {},
   "outputs": [
    {
     "data": {
      "text/html": [
       "<div>\n",
       "<style scoped>\n",
       "    .dataframe tbody tr th:only-of-type {\n",
       "        vertical-align: middle;\n",
       "    }\n",
       "\n",
       "    .dataframe tbody tr th {\n",
       "        vertical-align: top;\n",
       "    }\n",
       "\n",
       "    .dataframe thead th {\n",
       "        text-align: right;\n",
       "    }\n",
       "</style>\n",
       "<table border=\"1\" class=\"dataframe\">\n",
       "  <thead>\n",
       "    <tr style=\"text-align: right;\">\n",
       "      <th></th>\n",
       "      <th>GNP.deflator</th>\n",
       "      <th>GNP</th>\n",
       "      <th>Unemployed</th>\n",
       "      <th>Armed.Forces</th>\n",
       "      <th>Population</th>\n",
       "      <th>Year</th>\n",
       "      <th>Employed</th>\n",
       "    </tr>\n",
       "  </thead>\n",
       "  <tbody>\n",
       "    <tr>\n",
       "      <th>1947</th>\n",
       "      <td>83.0</td>\n",
       "      <td>234.289</td>\n",
       "      <td>235.6</td>\n",
       "      <td>159.0</td>\n",
       "      <td>107.608</td>\n",
       "      <td>1947</td>\n",
       "      <td>60.323</td>\n",
       "    </tr>\n",
       "    <tr>\n",
       "      <th>1948</th>\n",
       "      <td>88.5</td>\n",
       "      <td>259.426</td>\n",
       "      <td>232.5</td>\n",
       "      <td>145.6</td>\n",
       "      <td>108.632</td>\n",
       "      <td>1948</td>\n",
       "      <td>61.122</td>\n",
       "    </tr>\n",
       "    <tr>\n",
       "      <th>1949</th>\n",
       "      <td>88.2</td>\n",
       "      <td>258.054</td>\n",
       "      <td>368.2</td>\n",
       "      <td>161.6</td>\n",
       "      <td>109.773</td>\n",
       "      <td>1949</td>\n",
       "      <td>60.171</td>\n",
       "    </tr>\n",
       "    <tr>\n",
       "      <th>1950</th>\n",
       "      <td>89.5</td>\n",
       "      <td>284.599</td>\n",
       "      <td>335.1</td>\n",
       "      <td>165.0</td>\n",
       "      <td>110.929</td>\n",
       "      <td>1950</td>\n",
       "      <td>61.187</td>\n",
       "    </tr>\n",
       "    <tr>\n",
       "      <th>1951</th>\n",
       "      <td>96.2</td>\n",
       "      <td>328.975</td>\n",
       "      <td>209.9</td>\n",
       "      <td>309.9</td>\n",
       "      <td>112.075</td>\n",
       "      <td>1951</td>\n",
       "      <td>63.221</td>\n",
       "    </tr>\n",
       "  </tbody>\n",
       "</table>\n",
       "</div>"
      ],
      "text/plain": [
       "      GNP.deflator      GNP  Unemployed  Armed.Forces  Population  Year  \\\n",
       "1947          83.0  234.289       235.6         159.0     107.608  1947   \n",
       "1948          88.5  259.426       232.5         145.6     108.632  1948   \n",
       "1949          88.2  258.054       368.2         161.6     109.773  1949   \n",
       "1950          89.5  284.599       335.1         165.0     110.929  1950   \n",
       "1951          96.2  328.975       209.9         309.9     112.075  1951   \n",
       "\n",
       "      Employed  \n",
       "1947    60.323  \n",
       "1948    61.122  \n",
       "1949    60.171  \n",
       "1950    61.187  \n",
       "1951    63.221  "
      ]
     },
     "execution_count": 52,
     "metadata": {},
     "output_type": "execute_result"
    }
   ],
   "source": [
    "# importanto la api de statsmodels\n",
    "import statsmodels.formula.api as smf\n",
    "import statsmodels.api as sm\n",
    "\n",
    "# Creando un DataFrame de pandas.\n",
    "df = pd.read_csv('https://vincentarelbundock.github.io/Rdatasets/csv/datasets/longley.csv', index_col=0)\n",
    "df.head() # longley dataset"
   ]
  },
  {
   "cell_type": "code",
   "execution_count": 53,
   "id": "3a7b5e39",
   "metadata": {},
   "outputs": [
    {
     "name": "stderr",
     "output_type": "stream",
     "text": [
      "C:\\Users\\qflui\\anaconda3\\envs\\DATA\\lib\\site-packages\\scipy\\stats\\_stats_py.py:1772: UserWarning: kurtosistest only valid for n>=20 ... continuing anyway, n=16\n",
      "  warnings.warn(\"kurtosistest only valid for n>=20 ... continuing \"\n"
     ]
    },
    {
     "data": {
      "text/html": [
       "<table class=\"simpletable\">\n",
       "<caption>OLS Regression Results</caption>\n",
       "<tr>\n",
       "  <th>Dep. Variable:</th>        <td>Employed</td>     <th>  R-squared:         </th> <td>   0.967</td>\n",
       "</tr>\n",
       "<tr>\n",
       "  <th>Model:</th>                   <td>OLS</td>       <th>  Adj. R-squared:    </th> <td>   0.965</td>\n",
       "</tr>\n",
       "<tr>\n",
       "  <th>Method:</th>             <td>Least Squares</td>  <th>  F-statistic:       </th> <td>   415.1</td>\n",
       "</tr>\n",
       "<tr>\n",
       "  <th>Date:</th>             <td>Sun, 06 Nov 2022</td> <th>  Prob (F-statistic):</th> <td>8.36e-12</td>\n",
       "</tr>\n",
       "<tr>\n",
       "  <th>Time:</th>                 <td>19:37:18</td>     <th>  Log-Likelihood:    </th> <td> -14.904</td>\n",
       "</tr>\n",
       "<tr>\n",
       "  <th>No. Observations:</th>      <td>    16</td>      <th>  AIC:               </th> <td>   33.81</td>\n",
       "</tr>\n",
       "<tr>\n",
       "  <th>Df Residuals:</th>          <td>    14</td>      <th>  BIC:               </th> <td>   35.35</td>\n",
       "</tr>\n",
       "<tr>\n",
       "  <th>Df Model:</th>              <td>     1</td>      <th>                     </th>     <td> </td>   \n",
       "</tr>\n",
       "<tr>\n",
       "  <th>Covariance Type:</th>      <td>nonrobust</td>    <th>                     </th>     <td> </td>   \n",
       "</tr>\n",
       "</table>\n",
       "<table class=\"simpletable\">\n",
       "<tr>\n",
       "      <td></td>         <th>coef</th>     <th>std err</th>      <th>t</th>      <th>P>|t|</th>  <th>[0.025</th>    <th>0.975]</th>  \n",
       "</tr>\n",
       "<tr>\n",
       "  <th>Intercept</th> <td>   51.8436</td> <td>    0.681</td> <td>   76.087</td> <td> 0.000</td> <td>   50.382</td> <td>   53.305</td>\n",
       "</tr>\n",
       "<tr>\n",
       "  <th>GNP</th>       <td>    0.0348</td> <td>    0.002</td> <td>   20.374</td> <td> 0.000</td> <td>    0.031</td> <td>    0.038</td>\n",
       "</tr>\n",
       "</table>\n",
       "<table class=\"simpletable\">\n",
       "<tr>\n",
       "  <th>Omnibus:</th>       <td> 1.925</td> <th>  Durbin-Watson:     </th> <td>   1.619</td>\n",
       "</tr>\n",
       "<tr>\n",
       "  <th>Prob(Omnibus):</th> <td> 0.382</td> <th>  Jarque-Bera (JB):  </th> <td>   1.215</td>\n",
       "</tr>\n",
       "<tr>\n",
       "  <th>Skew:</th>          <td> 0.664</td> <th>  Prob(JB):          </th> <td>   0.545</td>\n",
       "</tr>\n",
       "<tr>\n",
       "  <th>Kurtosis:</th>      <td> 2.759</td> <th>  Cond. No.          </th> <td>1.66e+03</td>\n",
       "</tr>\n",
       "</table><br/><br/>Notes:<br/>[1] Standard Errors assume that the covariance matrix of the errors is correctly specified.<br/>[2] The condition number is large, 1.66e+03. This might indicate that there are<br/>strong multicollinearity or other numerical problems."
      ],
      "text/plain": [
       "<class 'statsmodels.iolib.summary.Summary'>\n",
       "\"\"\"\n",
       "                            OLS Regression Results                            \n",
       "==============================================================================\n",
       "Dep. Variable:               Employed   R-squared:                       0.967\n",
       "Model:                            OLS   Adj. R-squared:                  0.965\n",
       "Method:                 Least Squares   F-statistic:                     415.1\n",
       "Date:                Sun, 06 Nov 2022   Prob (F-statistic):           8.36e-12\n",
       "Time:                        19:37:18   Log-Likelihood:                -14.904\n",
       "No. Observations:                  16   AIC:                             33.81\n",
       "Df Residuals:                      14   BIC:                             35.35\n",
       "Df Model:                           1                                         \n",
       "Covariance Type:            nonrobust                                         \n",
       "==============================================================================\n",
       "                 coef    std err          t      P>|t|      [0.025      0.975]\n",
       "------------------------------------------------------------------------------\n",
       "Intercept     51.8436      0.681     76.087      0.000      50.382      53.305\n",
       "GNP            0.0348      0.002     20.374      0.000       0.031       0.038\n",
       "==============================================================================\n",
       "Omnibus:                        1.925   Durbin-Watson:                   1.619\n",
       "Prob(Omnibus):                  0.382   Jarque-Bera (JB):                1.215\n",
       "Skew:                           0.664   Prob(JB):                        0.545\n",
       "Kurtosis:                       2.759   Cond. No.                     1.66e+03\n",
       "==============================================================================\n",
       "\n",
       "Notes:\n",
       "[1] Standard Errors assume that the covariance matrix of the errors is correctly specified.\n",
       "[2] The condition number is large, 1.66e+03. This might indicate that there are\n",
       "strong multicollinearity or other numerical problems.\n",
       "\"\"\""
      ]
     },
     "execution_count": 53,
     "metadata": {},
     "output_type": "execute_result"
    }
   ],
   "source": [
    "# utilizando la api de formula de statsmodels\n",
    "est = smf.ols(formula='Employed ~ GNP', data=df).fit()\n",
    "est.summary() # Employed se estima en base a GNP."
   ]
  },
  {
   "cell_type": "code",
   "execution_count": 54,
   "id": "1db66861",
   "metadata": {},
   "outputs": [
    {
     "data": {
      "image/png": "[encoded data removed]",
      "text/plain": [
       "<Figure size 640x480 with 1 Axes>"
      ]
     },
     "metadata": {},
     "output_type": "display_data"
    }
   ],
   "source": [
    "# grafico de regresion. que tanto se ajusta el modelo a los datos.\n",
    "y = df.Employed  # Respuesta\n",
    "X = df.GNP  # Predictor\n",
    "X = sm.add_constant(X) # agrega constante\n",
    "\n",
    "X_1 = pd.DataFrame({'GNP': np.linspace(X.GNP.min(), X.GNP.max(), 100)})\n",
    "X_1 = sm.add_constant(X_1) \n",
    "\n",
    "y_reg = est.predict(X_1) # estimacion\n",
    "\n",
    "plt.scatter(X.GNP, y, alpha=0.3)  # grafica los puntos de datos\n",
    "plt.ylim(30, 100)  # limite de eje y\n",
    "plt.xlabel(\"Producto bruto\") # leyenda eje x\n",
    "plt.ylabel(\"Empleo\") # leyenda eje y\n",
    "plt.title(\"Ajuste de regresion\") # titulo del grafico\n",
    "reg = plt.plot(X_1.GNP, y_reg, 'r', alpha=0.9)  # linea de regresion"
   ]
  },
  {
   "cell_type": "code",
   "execution_count": 55,
   "id": "264135b9",
   "metadata": {},
   "outputs": [
    {
     "data": {
      "image/png": "[encoded data removed]",
      "text/plain": [
       "<Figure size 640x480 with 1 Axes>"
      ]
     },
     "metadata": {},
     "output_type": "display_data"
    }
   ],
   "source": [
    "# grafico de influencia\n",
    "from statsmodels.graphics.regressionplots import influence_plot\n",
    "\n",
    "inf =influence_plot(est)"
   ]
  },
  {
   "cell_type": "markdown",
   "id": "e7b1b86b",
   "metadata": {},
   "source": [
    "## Estadística bayesiana"
   ]
  },
  {
   "cell_type": "code",
   "execution_count": 57,
   "id": "47c66a4f",
   "metadata": {},
   "outputs": [
    {
     "data": {
      "image/png": "[encoded data removed]",
      "text/plain": [
       "<Figure size 640x480 with 10 Axes>"
      ]
     },
     "metadata": {},
     "output_type": "display_data"
    }
   ],
   "source": [
    "sns.set_context(rc={\"figure.figsize\": (11, 9)})\n",
    "\n",
    "dist = stats.beta\n",
    "n_trials = [0, 1, 2, 3, 4, 5, 8, 15, 50, 500]\n",
    "data = stats.bernoulli.rvs(0.5, size=n_trials[-1])\n",
    "x = np.linspace(0, 1, 100)\n",
    "\n",
    "for k, N in enumerate(n_trials):\n",
    "    sx = plt.subplot(int(len(n_trials) / 2), 2, k + 1)\n",
    "    plt.xlabel(\"$p$, probabilidad de cara\") \\\n",
    "        if k in [0, len(n_trials) - 1] else None\n",
    "    plt.setp(sx.get_yticklabels(), visible=False)\n",
    "    heads = data[:N].sum()\n",
    "    y = dist.pdf(x, 1 + heads, 1 + N - heads)\n",
    "    plt.plot(x, y, label=\"lanzamientos observados %d,\\n %d caras\" % (N, heads))\n",
    "    plt.fill_between(x, 0, y, color=\"#348ABD\", alpha=0.4)\n",
    "    plt.vlines(0.5, 0, 4, color=\"k\", linestyles=\"--\", lw=1)\n",
    "\n",
    "    leg = plt.legend()\n",
    "    leg.get_frame().set_alpha(0.4)\n",
    "    plt.autoscale(tight=True)\n",
    "\n",
    "plt.suptitle(\"Actualizacion Bayesiana de probabilidades posterios\",\n",
    "             y=1.02,\n",
    "             fontsize=14)\n",
    "\n",
    "plt.tight_layout()"
   ]
  },
  {
   "cell_type": "code",
   "execution_count": null,
   "id": "f351d1c8",
   "metadata": {},
   "outputs": [],
   "source": []
  }
 ],
 "metadata": {
  "kernelspec": {
   "display_name": "Python 3 (ipykernel)",
   "language": "python",
   "name": "python3"
  },
  "language_info": {
   "codemirror_mode": {
    "name": "ipython",
    "version": 3
   },
   "file_extension": ".py",
   "mimetype": "text/x-python",
   "name": "python",
   "nbconvert_exporter": "python",
   "pygments_lexer": "ipython3",
   "version": "3.8.13"
  }
 },
 "nbformat": 4,
 "nbformat_minor": 5
}
